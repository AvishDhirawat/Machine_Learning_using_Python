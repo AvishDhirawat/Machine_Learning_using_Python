{
 "cells": [
  {
   "cell_type": "code",
   "execution_count": 1,
   "metadata": {},
   "outputs": [],
   "source": [
    "%matplotlib inline\n",
    "from sklearn import datasets\n",
    "import pandas as pd\n",
    "import numpy as np\n",
    "import random\n",
    "import math\n",
    "import csv\n",
    "import operator"
   ]
  },
  {
   "cell_type": "code",
   "execution_count": 2,
   "metadata": {},
   "outputs": [
    {
     "data": {
      "text/html": [
       "<div>\n",
       "<style scoped>\n",
       "    .dataframe tbody tr th:only-of-type {\n",
       "        vertical-align: middle;\n",
       "    }\n",
       "\n",
       "    .dataframe tbody tr th {\n",
       "        vertical-align: top;\n",
       "    }\n",
       "\n",
       "    .dataframe thead th {\n",
       "        text-align: right;\n",
       "    }\n",
       "</style>\n",
       "<table border=\"1\" class=\"dataframe\">\n",
       "  <thead>\n",
       "    <tr style=\"text-align: right;\">\n",
       "      <th></th>\n",
       "      <th>sepal length (cm)</th>\n",
       "      <th>sepal width (cm)</th>\n",
       "      <th>petal length (cm)</th>\n",
       "      <th>petal width (cm)</th>\n",
       "      <th>target</th>\n",
       "    </tr>\n",
       "  </thead>\n",
       "  <tbody>\n",
       "    <tr>\n",
       "      <td>0</td>\n",
       "      <td>5.1</td>\n",
       "      <td>3.5</td>\n",
       "      <td>1.4</td>\n",
       "      <td>0.2</td>\n",
       "      <td>0.0</td>\n",
       "    </tr>\n",
       "    <tr>\n",
       "      <td>1</td>\n",
       "      <td>4.9</td>\n",
       "      <td>3.0</td>\n",
       "      <td>1.4</td>\n",
       "      <td>0.2</td>\n",
       "      <td>0.0</td>\n",
       "    </tr>\n",
       "    <tr>\n",
       "      <td>2</td>\n",
       "      <td>4.7</td>\n",
       "      <td>3.2</td>\n",
       "      <td>1.3</td>\n",
       "      <td>0.2</td>\n",
       "      <td>0.0</td>\n",
       "    </tr>\n",
       "    <tr>\n",
       "      <td>3</td>\n",
       "      <td>4.6</td>\n",
       "      <td>3.1</td>\n",
       "      <td>1.5</td>\n",
       "      <td>0.2</td>\n",
       "      <td>0.0</td>\n",
       "    </tr>\n",
       "    <tr>\n",
       "      <td>4</td>\n",
       "      <td>5.0</td>\n",
       "      <td>3.6</td>\n",
       "      <td>1.4</td>\n",
       "      <td>0.2</td>\n",
       "      <td>0.0</td>\n",
       "    </tr>\n",
       "  </tbody>\n",
       "</table>\n",
       "</div>"
      ],
      "text/plain": [
       "   sepal length (cm)  sepal width (cm)  petal length (cm)  petal width (cm)  \\\n",
       "0                5.1               3.5                1.4               0.2   \n",
       "1                4.9               3.0                1.4               0.2   \n",
       "2                4.7               3.2                1.3               0.2   \n",
       "3                4.6               3.1                1.5               0.2   \n",
       "4                5.0               3.6                1.4               0.2   \n",
       "\n",
       "   target  \n",
       "0     0.0  \n",
       "1     0.0  \n",
       "2     0.0  \n",
       "3     0.0  \n",
       "4     0.0  "
      ]
     },
     "execution_count": 2,
     "metadata": {},
     "output_type": "execute_result"
    }
   ],
   "source": [
    "iris=datasets.load_iris()\n",
    "df=pd.DataFrame(data=np.c_[iris['data'],iris['target']],columns=iris['feature_names']+['target'])\n",
    "df.head()"
   ]
  },
  {
   "cell_type": "code",
   "execution_count": 3,
   "metadata": {},
   "outputs": [
    {
     "data": {
      "text/html": [
       "<div>\n",
       "<style scoped>\n",
       "    .dataframe tbody tr th:only-of-type {\n",
       "        vertical-align: middle;\n",
       "    }\n",
       "\n",
       "    .dataframe tbody tr th {\n",
       "        vertical-align: top;\n",
       "    }\n",
       "\n",
       "    .dataframe thead th {\n",
       "        text-align: right;\n",
       "    }\n",
       "</style>\n",
       "<table border=\"1\" class=\"dataframe\">\n",
       "  <thead>\n",
       "    <tr style=\"text-align: right;\">\n",
       "      <th></th>\n",
       "      <th>sepal length (cm)</th>\n",
       "      <th>sepal width (cm)</th>\n",
       "      <th>petal length (cm)</th>\n",
       "      <th>petal width (cm)</th>\n",
       "      <th>target</th>\n",
       "    </tr>\n",
       "  </thead>\n",
       "  <tbody>\n",
       "    <tr>\n",
       "      <td>145</td>\n",
       "      <td>6.7</td>\n",
       "      <td>3.0</td>\n",
       "      <td>5.2</td>\n",
       "      <td>2.3</td>\n",
       "      <td>2.0</td>\n",
       "    </tr>\n",
       "    <tr>\n",
       "      <td>146</td>\n",
       "      <td>6.3</td>\n",
       "      <td>2.5</td>\n",
       "      <td>5.0</td>\n",
       "      <td>1.9</td>\n",
       "      <td>2.0</td>\n",
       "    </tr>\n",
       "    <tr>\n",
       "      <td>147</td>\n",
       "      <td>6.5</td>\n",
       "      <td>3.0</td>\n",
       "      <td>5.2</td>\n",
       "      <td>2.0</td>\n",
       "      <td>2.0</td>\n",
       "    </tr>\n",
       "    <tr>\n",
       "      <td>148</td>\n",
       "      <td>6.2</td>\n",
       "      <td>3.4</td>\n",
       "      <td>5.4</td>\n",
       "      <td>2.3</td>\n",
       "      <td>2.0</td>\n",
       "    </tr>\n",
       "    <tr>\n",
       "      <td>149</td>\n",
       "      <td>5.9</td>\n",
       "      <td>3.0</td>\n",
       "      <td>5.1</td>\n",
       "      <td>1.8</td>\n",
       "      <td>2.0</td>\n",
       "    </tr>\n",
       "  </tbody>\n",
       "</table>\n",
       "</div>"
      ],
      "text/plain": [
       "     sepal length (cm)  sepal width (cm)  petal length (cm)  petal width (cm)  \\\n",
       "145                6.7               3.0                5.2               2.3   \n",
       "146                6.3               2.5                5.0               1.9   \n",
       "147                6.5               3.0                5.2               2.0   \n",
       "148                6.2               3.4                5.4               2.3   \n",
       "149                5.9               3.0                5.1               1.8   \n",
       "\n",
       "     target  \n",
       "145     2.0  \n",
       "146     2.0  \n",
       "147     2.0  \n",
       "148     2.0  \n",
       "149     2.0  "
      ]
     },
     "execution_count": 3,
     "metadata": {},
     "output_type": "execute_result"
    }
   ],
   "source": [
    "df.tail()"
   ]
  },
  {
   "cell_type": "code",
   "execution_count": 4,
   "metadata": {},
   "outputs": [],
   "source": [
    "df['target']=df['target'].map({0:'setosa',1:'versicolor',2:'virginica'})\n",
    "df.to_csv('mydatafile.csv',header=None,index=False)"
   ]
  },
  {
   "cell_type": "code",
   "execution_count": 5,
   "metadata": {},
   "outputs": [],
   "source": [
    "def loadmyfile(filename,split,trainingset=[],testset=[]):\n",
    "    with open(filename,'r') as csvfile:\n",
    "        lines=csv.reader(csvfile)\n",
    "        dataset=list(lines)\n",
    "        for x in range(len(dataset)-1):\n",
    "            for y in range(4):\n",
    "                dataset[x][y]=float(dataset[x][y])\n",
    "            if random.random()<split:\n",
    "                trainingset.append(dataset[x])\n",
    "            else:\n",
    "                testset.append(dataset[x])"
   ]
  },
  {
   "cell_type": "code",
   "execution_count": 6,
   "metadata": {},
   "outputs": [
    {
     "name": "stdout",
     "output_type": "stream",
     "text": [
      "Training Set :  103\n",
      "Test Set :  46\n"
     ]
    }
   ],
   "source": [
    "trainingset=[]\n",
    "testset=[]\n",
    "split=0.67\n",
    "loadmyfile('mydatafile.csv',split,trainingset,testset)\n",
    "print('Training Set : ',repr(len(trainingset)))\n",
    "print('Test Set : ',repr(len(testset)))"
   ]
  },
  {
   "cell_type": "code",
   "execution_count": 7,
   "metadata": {},
   "outputs": [
    {
     "name": "stdout",
     "output_type": "stream",
     "text": [
      "Help on built-in function repr in module builtins:\n",
      "\n",
      "repr(obj, /)\n",
      "    Return the canonical string representation of the object.\n",
      "    \n",
      "    For many object types, including most builtins, eval(repr(obj)) == obj.\n",
      "\n"
     ]
    }
   ],
   "source": [
    "help(repr)"
   ]
  },
  {
   "cell_type": "code",
   "execution_count": 8,
   "metadata": {},
   "outputs": [],
   "source": [
    "def euclideandistances(instance1,instance2,length):\n",
    "    distance=0\n",
    "    for x in range(length):\n",
    "        distance+=pow((instance1[x]-instance2[x]),2)\n",
    "    return math.sqrt(distance)"
   ]
  },
  {
   "cell_type": "code",
   "execution_count": 9,
   "metadata": {},
   "outputs": [],
   "source": [
    "def neighbours(trainingset,testinstance,k):\n",
    "    distances=[]\n",
    "    length=len(testinstance)-1\n",
    "    for x in range(len(trainingset)):\n",
    "        dist=euclideandistances(testinstance,trainingset[x],length)\n",
    "        distances.append((trainingset[x],dist))\n",
    "    distances.sort(key=operator.itemgetter(1))\n",
    "    neighbours1=[]\n",
    "    for x in range(k):\n",
    "        neighbours1.append(distances[x][0])\n",
    "    return neighbours1"
   ]
  },
  {
   "cell_type": "code",
   "execution_count": 10,
   "metadata": {},
   "outputs": [],
   "source": [
    "def getresponse(neighbours):\n",
    "    votes={}\n",
    "    for x in range(len(neighbours)):\n",
    "        response=neighbours[x][-1]\n",
    "        if response in votes:\n",
    "            votes[response]+=1\n",
    "        else:\n",
    "            votes[response]=1\n",
    "    sortedvalues=sorted(votes.items(),key=operator.itemgetter(1),reverse=True)\n",
    "    return sortedvalues[0][0]"
   ]
  },
  {
   "cell_type": "code",
   "execution_count": 11,
   "metadata": {},
   "outputs": [],
   "source": [
    "def getaccuracy(testset,predictions):\n",
    "    sum=0\n",
    "    for x in range(len(testset)):\n",
    "        if testset[x][-1]==predictions[x]:\n",
    "            sum+=1\n",
    "    return(sum/float(len(testset)))*100.0"
   ]
  },
  {
   "cell_type": "code",
   "execution_count": 12,
   "metadata": {},
   "outputs": [
    {
     "name": "stdout",
     "output_type": "stream",
     "text": [
      "Predicted : 'setosa' Actual : 'setosa'\n",
      "Predicted : 'setosa' Actual : 'setosa'\n",
      "Predicted : 'setosa' Actual : 'setosa'\n",
      "Predicted : 'setosa' Actual : 'setosa'\n",
      "Predicted : 'setosa' Actual : 'setosa'\n",
      "Predicted : 'setosa' Actual : 'setosa'\n",
      "Predicted : 'setosa' Actual : 'setosa'\n",
      "Predicted : 'setosa' Actual : 'setosa'\n",
      "Predicted : 'setosa' Actual : 'setosa'\n",
      "Predicted : 'setosa' Actual : 'setosa'\n",
      "Predicted : 'setosa' Actual : 'setosa'\n",
      "Predicted : 'setosa' Actual : 'setosa'\n",
      "Predicted : 'setosa' Actual : 'setosa'\n",
      "Predicted : 'setosa' Actual : 'setosa'\n",
      "Predicted : 'setosa' Actual : 'setosa'\n",
      "Predicted : 'versicolor' Actual : 'versicolor'\n",
      "Predicted : 'versicolor' Actual : 'versicolor'\n",
      "Predicted : 'versicolor' Actual : 'versicolor'\n",
      "Predicted : 'versicolor' Actual : 'versicolor'\n",
      "Predicted : 'versicolor' Actual : 'versicolor'\n",
      "Predicted : 'versicolor' Actual : 'versicolor'\n",
      "Predicted : 'versicolor' Actual : 'versicolor'\n",
      "Predicted : 'versicolor' Actual : 'versicolor'\n",
      "Predicted : 'virginica' Actual : 'versicolor'\n",
      "Predicted : 'versicolor' Actual : 'versicolor'\n",
      "Predicted : 'versicolor' Actual : 'versicolor'\n",
      "Predicted : 'versicolor' Actual : 'versicolor'\n",
      "Predicted : 'versicolor' Actual : 'versicolor'\n",
      "Predicted : 'versicolor' Actual : 'versicolor'\n",
      "Predicted : 'versicolor' Actual : 'versicolor'\n",
      "Predicted : 'versicolor' Actual : 'versicolor'\n",
      "Predicted : 'versicolor' Actual : 'versicolor'\n",
      "Predicted : 'versicolor' Actual : 'versicolor'\n",
      "Predicted : 'virginica' Actual : 'virginica'\n",
      "Predicted : 'virginica' Actual : 'virginica'\n",
      "Predicted : 'virginica' Actual : 'virginica'\n",
      "Predicted : 'virginica' Actual : 'virginica'\n",
      "Predicted : 'virginica' Actual : 'virginica'\n",
      "Predicted : 'versicolor' Actual : 'virginica'\n",
      "Predicted : 'virginica' Actual : 'virginica'\n",
      "Predicted : 'virginica' Actual : 'virginica'\n",
      "Predicted : 'virginica' Actual : 'virginica'\n",
      "Predicted : 'virginica' Actual : 'virginica'\n",
      "Predicted : 'virginica' Actual : 'virginica'\n",
      "Predicted : 'virginica' Actual : 'virginica'\n",
      "Predicted : 'virginica' Actual : 'virginica'\n",
      "Accuracy : 95.65217391304348%\n"
     ]
    }
   ],
   "source": [
    "predictions=[]\n",
    "k=3\n",
    "for x in range(len(testset)):\n",
    "    neighbours1=neighbours(trainingset,testset[x],k)\n",
    "    result=getresponse(neighbours1)\n",
    "    predictions.append(result)\n",
    "    print('Predicted : '+repr(result)+' Actual : '+repr(testset[x][-1]))\n",
    "accuracy=getaccuracy(testset,predictions)\n",
    "# plt.pyplot(accuracy)\n",
    "print('Accuracy : '+repr(accuracy)+'%')"
   ]
  },
  {
   "cell_type": "code",
   "execution_count": 13,
   "metadata": {},
   "outputs": [],
   "source": [
    "import numpy as np\n",
    "import matplotlib.pyplot as plt\n",
    "from matplotlib.colors import ListedColormap\n",
    "from sklearn import neighbors,datasets"
   ]
  },
  {
   "cell_type": "code",
   "execution_count": 15,
   "metadata": {},
   "outputs": [
    {
     "data": {
      "text/plain": [
       "KNeighborsClassifier(algorithm='auto', leaf_size=30, metric='minkowski',\n",
       "                     metric_params=None, n_jobs=None, n_neighbors=15, p=2,\n",
       "                     weights='uniform')"
      ]
     },
     "execution_count": 15,
     "metadata": {},
     "output_type": "execute_result"
    }
   ],
   "source": [
    "k=15\n",
    "iris=datasets.load_iris()\n",
    "X=iris.data[:,:2]\n",
    "Y=iris.target\n",
    "h=0.2\n",
    "lightcolor=ListedColormap(['#FFAAAA','#AAFFAA','#AAAAFF'])\n",
    "boldcolor=ListedColormap(['#FF0000','#00FF00','#0000FF'])\n",
    "clf=neighbors.KNeighborsClassifier(k,weights='uniform')\n",
    "clf.fit(X,Y)"
   ]
  },
  {
   "cell_type": "code",
   "execution_count": 22,
   "metadata": {},
   "outputs": [
    {
     "data": {
      "image/png": "[encoded data removed]",
      "text/plain": [
       "<Figure size 432x288 with 1 Axes>"
      ]
     },
     "metadata": {
      "needs_background": "light"
     },
     "output_type": "display_data"
    }
   ],
   "source": [
    "xmin,xmax=X[:,0].min()-1,X[:,0].max()+1\n",
    "ymin,ymax=X[:,1].min()-1,X[:,1].max()+1\n",
    "xx,yy=np.meshgrid(np.arange(xmin,xmax,h),np.arange(ymin,ymax,h))\n",
    "Z=clf.predict(np.c_[xx.ravel(),yy.ravel()])\n",
    "Z=Z.reshape(xx.shape)\n",
    "plt.figure()\n",
    "plt.pcolormesh(xx,yy,Z,cmap=lightcolor)\n",
    "plt.scatter(X[:,0],X[:,1],c=Y,cmap=boldcolor,edgecolor='K',s=20)\n",
    "plt.xlim(xx.min(),xx.max())\n",
    "plt.ylim(yy.min(),yy.max())\n",
    "plt.title(\"(3 Class Classification (k=15,weight=Uniform))\")\n",
    "plt.show()"
   ]
  },
  {
   "cell_type": "code",
   "execution_count": null,
   "metadata": {},
   "outputs": [],
   "source": []
  }
 ],
 "metadata": {
  "kernelspec": {
   "display_name": "Python 3",
   "language": "python",
   "name": "python3"
  },
  "language_info": {
   "codemirror_mode": {
    "name": "ipython",
    "version": 3
   },
   "file_extension": ".py",
   "mimetype": "text/x-python",
   "name": "python",
   "nbconvert_exporter": "python",
   "pygments_lexer": "ipython3",
   "version": "3.7.5"
  }
 },
 "nbformat": 4,
 "nbformat_minor": 2
}
