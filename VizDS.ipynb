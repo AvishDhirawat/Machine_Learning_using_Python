{
 "cells": [
  {
   "cell_type": "code",
   "execution_count": 7,
   "metadata": {},
   "outputs": [],
   "source": [
    "from sklearn.datasets import load_iris\n",
    "iris = load_iris()"
   ]
  },
  {
   "cell_type": "code",
   "execution_count": 9,
   "metadata": {},
   "outputs": [
    {
     "name": "stdout",
     "output_type": "stream",
     "text": [
      "['sepal length (cm)', 'sepal width (cm)', 'petal length (cm)', 'petal width (cm)']\n"
     ]
    }
   ],
   "source": [
    "print (iris.feature_names)"
   ]
  },
  {
   "cell_type": "code",
   "execution_count": 12,
   "metadata": {},
   "outputs": [
    {
     "name": "stdout",
     "output_type": "stream",
     "text": [
      "['setosa' 'versicolor' 'virginica']\n"
     ]
    }
   ],
   "source": [
    "print(iris.target_names)"
   ]
  },
  {
   "cell_type": "code",
   "execution_count": 11,
   "metadata": {},
   "outputs": [
    {
     "data": {
      "text/plain": [
       "array([5.1, 3.5, 1.4, 0.2])"
      ]
     },
     "execution_count": 11,
     "metadata": {},
     "output_type": "execute_result"
    }
   ],
   "source": [
    "iris.data[0]"
   ]
  },
  {
   "cell_type": "code",
   "execution_count": 13,
   "metadata": {},
   "outputs": [
    {
     "data": {
      "text/plain": [
       "0"
      ]
     },
     "execution_count": 13,
     "metadata": {},
     "output_type": "execute_result"
    }
   ],
   "source": [
    "iris.target[0]"
   ]
  },
  {
   "cell_type": "code",
   "execution_count": 14,
   "metadata": {},
   "outputs": [
    {
     "name": "stdout",
     "output_type": "stream",
     "text": [
      "Example 0: lable 0, feature [5.1 3.5 1.4 0.2]\n",
      "Example 1: lable 0, feature [4.9 3.  1.4 0.2]\n",
      "Example 2: lable 0, feature [4.7 3.2 1.3 0.2]\n",
      "Example 3: lable 0, feature [4.6 3.1 1.5 0.2]\n",
      "Example 4: lable 0, feature [5.  3.6 1.4 0.2]\n",
      "Example 5: lable 0, feature [5.4 3.9 1.7 0.4]\n",
      "Example 6: lable 0, feature [4.6 3.4 1.4 0.3]\n",
      "Example 7: lable 0, feature [5.  3.4 1.5 0.2]\n",
      "Example 8: lable 0, feature [4.4 2.9 1.4 0.2]\n",
      "Example 9: lable 0, feature [4.9 3.1 1.5 0.1]\n",
      "Example 10: lable 0, feature [5.4 3.7 1.5 0.2]\n",
      "Example 11: lable 0, feature [4.8 3.4 1.6 0.2]\n",
      "Example 12: lable 0, feature [4.8 3.  1.4 0.1]\n",
      "Example 13: lable 0, feature [4.3 3.  1.1 0.1]\n",
      "Example 14: lable 0, feature [5.8 4.  1.2 0.2]\n",
      "Example 15: lable 0, feature [5.7 4.4 1.5 0.4]\n",
      "Example 16: lable 0, feature [5.4 3.9 1.3 0.4]\n",
      "Example 17: lable 0, feature [5.1 3.5 1.4 0.3]\n",
      "Example 18: lable 0, feature [5.7 3.8 1.7 0.3]\n",
      "Example 19: lable 0, feature [5.1 3.8 1.5 0.3]\n",
      "Example 20: lable 0, feature [5.4 3.4 1.7 0.2]\n",
      "Example 21: lable 0, feature [5.1 3.7 1.5 0.4]\n",
      "Example 22: lable 0, feature [4.6 3.6 1.  0.2]\n",
      "Example 23: lable 0, feature [5.1 3.3 1.7 0.5]\n",
      "Example 24: lable 0, feature [4.8 3.4 1.9 0.2]\n",
      "Example 25: lable 0, feature [5.  3.  1.6 0.2]\n",
      "Example 26: lable 0, feature [5.  3.4 1.6 0.4]\n",
      "Example 27: lable 0, feature [5.2 3.5 1.5 0.2]\n",
      "Example 28: lable 0, feature [5.2 3.4 1.4 0.2]\n",
      "Example 29: lable 0, feature [4.7 3.2 1.6 0.2]\n",
      "Example 30: lable 0, feature [4.8 3.1 1.6 0.2]\n",
      "Example 31: lable 0, feature [5.4 3.4 1.5 0.4]\n",
      "Example 32: lable 0, feature [5.2 4.1 1.5 0.1]\n",
      "Example 33: lable 0, feature [5.5 4.2 1.4 0.2]\n",
      "Example 34: lable 0, feature [4.9 3.1 1.5 0.2]\n",
      "Example 35: lable 0, feature [5.  3.2 1.2 0.2]\n",
      "Example 36: lable 0, feature [5.5 3.5 1.3 0.2]\n",
      "Example 37: lable 0, feature [4.9 3.6 1.4 0.1]\n",
      "Example 38: lable 0, feature [4.4 3.  1.3 0.2]\n",
      "Example 39: lable 0, feature [5.1 3.4 1.5 0.2]\n",
      "Example 40: lable 0, feature [5.  3.5 1.3 0.3]\n",
      "Example 41: lable 0, feature [4.5 2.3 1.3 0.3]\n",
      "Example 42: lable 0, feature [4.4 3.2 1.3 0.2]\n",
      "Example 43: lable 0, feature [5.  3.5 1.6 0.6]\n",
      "Example 44: lable 0, feature [5.1 3.8 1.9 0.4]\n",
      "Example 45: lable 0, feature [4.8 3.  1.4 0.3]\n",
      "Example 46: lable 0, feature [5.1 3.8 1.6 0.2]\n",
      "Example 47: lable 0, feature [4.6 3.2 1.4 0.2]\n",
      "Example 48: lable 0, feature [5.3 3.7 1.5 0.2]\n",
      "Example 49: lable 0, feature [5.  3.3 1.4 0.2]\n",
      "Example 50: lable 1, feature [7.  3.2 4.7 1.4]\n",
      "Example 51: lable 1, feature [6.4 3.2 4.5 1.5]\n",
      "Example 52: lable 1, feature [6.9 3.1 4.9 1.5]\n",
      "Example 53: lable 1, feature [5.5 2.3 4.  1.3]\n",
      "Example 54: lable 1, feature [6.5 2.8 4.6 1.5]\n",
      "Example 55: lable 1, feature [5.7 2.8 4.5 1.3]\n",
      "Example 56: lable 1, feature [6.3 3.3 4.7 1.6]\n",
      "Example 57: lable 1, feature [4.9 2.4 3.3 1. ]\n",
      "Example 58: lable 1, feature [6.6 2.9 4.6 1.3]\n",
      "Example 59: lable 1, feature [5.2 2.7 3.9 1.4]\n",
      "Example 60: lable 1, feature [5.  2.  3.5 1. ]\n",
      "Example 61: lable 1, feature [5.9 3.  4.2 1.5]\n",
      "Example 62: lable 1, feature [6.  2.2 4.  1. ]\n",
      "Example 63: lable 1, feature [6.1 2.9 4.7 1.4]\n",
      "Example 64: lable 1, feature [5.6 2.9 3.6 1.3]\n",
      "Example 65: lable 1, feature [6.7 3.1 4.4 1.4]\n",
      "Example 66: lable 1, feature [5.6 3.  4.5 1.5]\n",
      "Example 67: lable 1, feature [5.8 2.7 4.1 1. ]\n",
      "Example 68: lable 1, feature [6.2 2.2 4.5 1.5]\n",
      "Example 69: lable 1, feature [5.6 2.5 3.9 1.1]\n",
      "Example 70: lable 1, feature [5.9 3.2 4.8 1.8]\n",
      "Example 71: lable 1, feature [6.1 2.8 4.  1.3]\n",
      "Example 72: lable 1, feature [6.3 2.5 4.9 1.5]\n",
      "Example 73: lable 1, feature [6.1 2.8 4.7 1.2]\n",
      "Example 74: lable 1, feature [6.4 2.9 4.3 1.3]\n",
      "Example 75: lable 1, feature [6.6 3.  4.4 1.4]\n",
      "Example 76: lable 1, feature [6.8 2.8 4.8 1.4]\n",
      "Example 77: lable 1, feature [6.7 3.  5.  1.7]\n",
      "Example 78: lable 1, feature [6.  2.9 4.5 1.5]\n",
      "Example 79: lable 1, feature [5.7 2.6 3.5 1. ]\n",
      "Example 80: lable 1, feature [5.5 2.4 3.8 1.1]\n",
      "Example 81: lable 1, feature [5.5 2.4 3.7 1. ]\n",
      "Example 82: lable 1, feature [5.8 2.7 3.9 1.2]\n",
      "Example 83: lable 1, feature [6.  2.7 5.1 1.6]\n",
      "Example 84: lable 1, feature [5.4 3.  4.5 1.5]\n",
      "Example 85: lable 1, feature [6.  3.4 4.5 1.6]\n",
      "Example 86: lable 1, feature [6.7 3.1 4.7 1.5]\n",
      "Example 87: lable 1, feature [6.3 2.3 4.4 1.3]\n",
      "Example 88: lable 1, feature [5.6 3.  4.1 1.3]\n",
      "Example 89: lable 1, feature [5.5 2.5 4.  1.3]\n",
      "Example 90: lable 1, feature [5.5 2.6 4.4 1.2]\n",
      "Example 91: lable 1, feature [6.1 3.  4.6 1.4]\n",
      "Example 92: lable 1, feature [5.8 2.6 4.  1.2]\n",
      "Example 93: lable 1, feature [5.  2.3 3.3 1. ]\n",
      "Example 94: lable 1, feature [5.6 2.7 4.2 1.3]\n",
      "Example 95: lable 1, feature [5.7 3.  4.2 1.2]\n",
      "Example 96: lable 1, feature [5.7 2.9 4.2 1.3]\n",
      "Example 97: lable 1, feature [6.2 2.9 4.3 1.3]\n",
      "Example 98: lable 1, feature [5.1 2.5 3.  1.1]\n",
      "Example 99: lable 1, feature [5.7 2.8 4.1 1.3]\n",
      "Example 100: lable 2, feature [6.3 3.3 6.  2.5]\n",
      "Example 101: lable 2, feature [5.8 2.7 5.1 1.9]\n",
      "Example 102: lable 2, feature [7.1 3.  5.9 2.1]\n",
      "Example 103: lable 2, feature [6.3 2.9 5.6 1.8]\n",
      "Example 104: lable 2, feature [6.5 3.  5.8 2.2]\n",
      "Example 105: lable 2, feature [7.6 3.  6.6 2.1]\n",
      "Example 106: lable 2, feature [4.9 2.5 4.5 1.7]\n",
      "Example 107: lable 2, feature [7.3 2.9 6.3 1.8]\n",
      "Example 108: lable 2, feature [6.7 2.5 5.8 1.8]\n",
      "Example 109: lable 2, feature [7.2 3.6 6.1 2.5]\n",
      "Example 110: lable 2, feature [6.5 3.2 5.1 2. ]\n",
      "Example 111: lable 2, feature [6.4 2.7 5.3 1.9]\n",
      "Example 112: lable 2, feature [6.8 3.  5.5 2.1]\n",
      "Example 113: lable 2, feature [5.7 2.5 5.  2. ]\n",
      "Example 114: lable 2, feature [5.8 2.8 5.1 2.4]\n",
      "Example 115: lable 2, feature [6.4 3.2 5.3 2.3]\n",
      "Example 116: lable 2, feature [6.5 3.  5.5 1.8]\n",
      "Example 117: lable 2, feature [7.7 3.8 6.7 2.2]\n",
      "Example 118: lable 2, feature [7.7 2.6 6.9 2.3]\n",
      "Example 119: lable 2, feature [6.  2.2 5.  1.5]\n",
      "Example 120: lable 2, feature [6.9 3.2 5.7 2.3]\n",
      "Example 121: lable 2, feature [5.6 2.8 4.9 2. ]\n",
      "Example 122: lable 2, feature [7.7 2.8 6.7 2. ]\n",
      "Example 123: lable 2, feature [6.3 2.7 4.9 1.8]\n",
      "Example 124: lable 2, feature [6.7 3.3 5.7 2.1]\n",
      "Example 125: lable 2, feature [7.2 3.2 6.  1.8]\n",
      "Example 126: lable 2, feature [6.2 2.8 4.8 1.8]\n",
      "Example 127: lable 2, feature [6.1 3.  4.9 1.8]\n",
      "Example 128: lable 2, feature [6.4 2.8 5.6 2.1]\n",
      "Example 129: lable 2, feature [7.2 3.  5.8 1.6]\n",
      "Example 130: lable 2, feature [7.4 2.8 6.1 1.9]\n",
      "Example 131: lable 2, feature [7.9 3.8 6.4 2. ]\n",
      "Example 132: lable 2, feature [6.4 2.8 5.6 2.2]\n",
      "Example 133: lable 2, feature [6.3 2.8 5.1 1.5]\n",
      "Example 134: lable 2, feature [6.1 2.6 5.6 1.4]\n",
      "Example 135: lable 2, feature [7.7 3.  6.1 2.3]\n",
      "Example 136: lable 2, feature [6.3 3.4 5.6 2.4]\n",
      "Example 137: lable 2, feature [6.4 3.1 5.5 1.8]\n",
      "Example 138: lable 2, feature [6.  3.  4.8 1.8]\n",
      "Example 139: lable 2, feature [6.9 3.1 5.4 2.1]\n",
      "Example 140: lable 2, feature [6.7 3.1 5.6 2.4]\n",
      "Example 141: lable 2, feature [6.9 3.1 5.1 2.3]\n",
      "Example 142: lable 2, feature [5.8 2.7 5.1 1.9]\n",
      "Example 143: lable 2, feature [6.8 3.2 5.9 2.3]\n",
      "Example 144: lable 2, feature [6.7 3.3 5.7 2.5]\n",
      "Example 145: lable 2, feature [6.7 3.  5.2 2.3]\n",
      "Example 146: lable 2, feature [6.3 2.5 5.  1.9]\n",
      "Example 147: lable 2, feature [6.5 3.  5.2 2. ]\n",
      "Example 148: lable 2, feature [6.2 3.4 5.4 2.3]\n",
      "Example 149: lable 2, feature [5.9 3.  5.1 1.8]\n"
     ]
    }
   ],
   "source": [
    "for i in range(len(iris.target)):\n",
    "    print(\"Example %d: lable %s, feature %s\" %(i,iris.target[i],iris.data[i]))"
   ]
  },
  {
   "cell_type": "code",
   "execution_count": 19,
   "metadata": {},
   "outputs": [
    {
     "name": "stdout",
     "output_type": "stream",
     "text": [
      "[0 1 2]\n"
     ]
    },
    {
     "data": {
      "text/plain": [
       "array([0, 1, 2])"
      ]
     },
     "execution_count": 19,
     "metadata": {},
     "output_type": "execute_result"
    }
   ],
   "source": [
    "import numpy as np\n",
    "from sklearn import tree\n",
    "test_idx = [0,50,100]\n",
    "#training data\n",
    "train_target = np.delete(iris.target, test_idx)\n",
    "train_data = np.delete(iris.data,test_idx,axis=0)\n",
    "#testing data\n",
    "test_target=iris.target[test_idx]\n",
    "test_data = iris.data[test_idx]\n",
    "\n",
    "clf = tree.DecisionTreeClassifier()\n",
    "clf.fit(train_data,train_target) \n",
    "print (test_target)\n",
    "clf.predict(test_data)"
   ]
  },
  {
   "cell_type": "code",
   "execution_count": 30,
   "metadata": {},
   "outputs": [
    {
     "name": "stdout",
     "output_type": "stream",
     "text": [
      "Requirement already satisfied: pydot in c:\\users\\avish\\anaconda3\\lib\\site-packages (1.4.1)\n",
      "Requirement already satisfied: pyparsing>=2.1.4 in c:\\users\\avish\\anaconda3\\lib\\site-packages (from pydot) (2.3.0)\n",
      "Collecting pydotplus\n",
      "  Downloading https://files.pythonhosted.org/packages/60/bf/62567830b700d9f6930e9ab6831d6ba256f7b0b730acb37278b0ccdffacf/pydotplus-2.0.2.tar.gz (278kB)\n",
      "Requirement already satisfied: pyparsing>=2.0.1 in c:\\users\\avish\\anaconda3\\lib\\site-packages (from pydotplus) (2.3.0)\n",
      "Building wheels for collected packages: pydotplus\n",
      "  Running setup.py bdist_wheel for pydotplus: started\n",
      "  Running setup.py bdist_wheel for pydotplus: finished with status 'done'\n",
      "  Stored in directory: C:\\Users\\avish\\AppData\\Local\\pip\\Cache\\wheels\\35\\7b\\ab\\66fb7b2ac1f6df87475b09dc48e707b6e0de80a6d8444e3628\n",
      "Successfully built pydotplus\n",
      "Installing collected packages: pydotplus\n",
      "Successfully installed pydotplus-2.0.2\n"
     ]
    }
   ],
   "source": [
    "!pip install pydot\n",
    "!pip install pydotplus"
   ]
  },
  {
   "cell_type": "code",
   "execution_count": 37,
   "metadata": {
    "scrolled": true
   },
   "outputs": [
    {
     "ename": "AttributeError",
     "evalue": "'list' object has no attribute 'write_pdf'",
     "output_type": "error",
     "traceback": [
      "\u001b[1;31m---------------------------------------------------------------------------\u001b[0m",
      "\u001b[1;31mAttributeError\u001b[0m                            Traceback (most recent call last)",
      "\u001b[1;32m<ipython-input-37-e2c937070493>\u001b[0m in \u001b[0;36m<module>\u001b[1;34m\u001b[0m\n\u001b[0;32m     12\u001b[0m                         impurity=False)\n\u001b[0;32m     13\u001b[0m \u001b[0mgraph\u001b[0m \u001b[1;33m=\u001b[0m \u001b[0mpydot\u001b[0m\u001b[1;33m.\u001b[0m\u001b[0mgraph_from_dot_data\u001b[0m\u001b[1;33m(\u001b[0m\u001b[0mdot_data\u001b[0m\u001b[1;33m.\u001b[0m\u001b[0mgetvalue\u001b[0m\u001b[1;33m(\u001b[0m\u001b[1;33m)\u001b[0m\u001b[1;33m)\u001b[0m\u001b[1;33m\u001b[0m\u001b[1;33m\u001b[0m\u001b[0m\n\u001b[1;32m---> 14\u001b[1;33m \u001b[0mgraph\u001b[0m\u001b[1;33m.\u001b[0m\u001b[0mwrite_pdf\u001b[0m\u001b[1;33m(\u001b[0m\u001b[1;34m\"iris.pdf\"\u001b[0m\u001b[1;33m)\u001b[0m\u001b[1;33m\u001b[0m\u001b[1;33m\u001b[0m\u001b[0m\n\u001b[0m\u001b[0;32m     15\u001b[0m \u001b[1;31m# (graph.create_png(\"iris.png\"))\u001b[0m\u001b[1;33m\u001b[0m\u001b[1;33m\u001b[0m\u001b[1;33m\u001b[0m\u001b[0m\n",
      "\u001b[1;31mAttributeError\u001b[0m: 'list' object has no attribute 'write_pdf'"
     ]
    }
   ],
   "source": [
    "#Viz Code from www.graphviz.org\n",
    "#Copied from scikit-learn\n",
    "from sklearn.externals.six import StringIO\n",
    "import pydot\n",
    "# import pydotplus\n",
    "dot_data = StringIO()\n",
    "tree.export_graphviz(clf,\n",
    "                        out_file=dot_data,\n",
    "                        feature_names=iris.feature_names,\n",
    "                        class_names=iris.target_names,\n",
    "                        filled=True, rounded=True,\n",
    "                        impurity=False)\n",
    "graph = pydot.graph_from_dot_data(dot_data.getvalue())\n",
    "graph.write_pdf(\"iris.pdf\")\n",
    "# (graph.create_png(\"iris.png\"))"
   ]
  },
  {
   "cell_type": "code",
   "execution_count": 38,
   "metadata": {},
   "outputs": [
    {
     "name": "stdout",
     "output_type": "stream",
     "text": [
      "[5.1 3.5 1.4 0.2] 0\n"
     ]
    }
   ],
   "source": [
    "print(test_data[0],test_target[0])"
   ]
  },
  {
   "cell_type": "code",
   "execution_count": 39,
   "metadata": {},
   "outputs": [
    {
     "name": "stdout",
     "output_type": "stream",
     "text": [
      "['sepal length (cm)', 'sepal width (cm)', 'petal length (cm)', 'petal width (cm)'] ['setosa' 'versicolor' 'virginica']\n"
     ]
    }
   ],
   "source": [
    "print(iris.feature_names,iris.target_names)"
   ]
  },
  {
   "cell_type": "code",
   "execution_count": 41,
   "metadata": {},
   "outputs": [
    {
     "name": "stdout",
     "output_type": "stream",
     "text": [
      "[7.  3.2 4.7 1.4] 1\n",
      "['sepal length (cm)', 'sepal width (cm)', 'petal length (cm)', 'petal width (cm)'] ['setosa' 'versicolor' 'virginica']\n"
     ]
    }
   ],
   "source": [
    "print(test_data[1],test_target[1])\n",
    "print(iris.feature_names,iris.target_names)"
   ]
  },
  {
   "cell_type": "code",
   "execution_count": null,
   "metadata": {},
   "outputs": [],
   "source": []
  }
 ],
 "metadata": {
  "kernelspec": {
   "display_name": "Python 3",
   "language": "python",
   "name": "python3"
  },
  "language_info": {
   "codemirror_mode": {
    "name": "ipython",
    "version": 3
   },
   "file_extension": ".py",
   "mimetype": "text/x-python",
   "name": "python",
   "nbconvert_exporter": "python",
   "pygments_lexer": "ipython3",
   "version": "3.7.1"
  }
 },
 "nbformat": 4,
 "nbformat_minor": 2
}
